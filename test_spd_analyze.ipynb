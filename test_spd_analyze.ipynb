{
 "cells": [
  {
   "cell_type": "code",
   "execution_count": 1,
   "metadata": {},
   "outputs": [
    {
     "name": "stdout",
     "output_type": "stream",
     "text": [
      "there is no gate voltage tables\n",
      "there is no gate voltage tables\n",
      "there is no gate voltage tables\n",
      "there is no gate voltage tables\n",
      "there is no gate voltage tables\n",
      "there is no gate voltage tables\n",
      "there is no gate voltage tables\n",
      "there is no gate voltage tables\n",
      "there is no gate voltage tables\n",
      "there is no gate voltage tables\n",
      "there is no gate voltage tables\n",
      "there is no gate voltage tables\n",
      "there is no gate voltage tables\n",
      "there is no gate voltage tables\n",
      "there is no gate voltage tables\n",
      "there is no gate voltage tables\n"
     ]
    }
   ],
   "source": [
    "import spd_analyze\n",
    "\n",
    "\n",
    "dir_name_agafia = '!SPDStandResults//AGAFIA//21_06_08__18_54'\n",
    "dir_name_bronislav = '!SPDStandResults//BRONISLAV//21_07_20__21_03'\n",
    "dir_name_alyonushka = \"!SPDStandResults//Alyonushka//21_12_02__13_47\"\n",
    "\n",
    "spd_agafia = spd_analyze.SPD(dir_name_agafia)\n",
    "spd_agafia = spd_agafia.get_spd()\n",
    "\n",
    "spd_bronislav = spd_analyze.SPD(dir_name_bronislav)\n",
    "spd_bronislav = spd_bronislav.get_spd()\n",
    "\n",
    "spd_alyonuushka = spd_analyze.SPD(dir_name_alyonushka)\n",
    "spd_alyonuushka = spd_alyonuushka.get_spd()"
   ]
  },
  {
   "cell_type": "code",
   "execution_count": 2,
   "metadata": {},
   "outputs": [
    {
     "data": {
      "text/plain": [
       "'!SPDStandResults//AGAFIA//21_06_08__18_54'"
      ]
     },
     "execution_count": 2,
     "metadata": {},
     "output_type": "execute_result"
    }
   ],
   "source": [
    "spd_agafia.dir_name"
   ]
  },
  {
   "cell_type": "code",
   "execution_count": 3,
   "metadata": {},
   "outputs": [
    {
     "data": {
      "text/plain": [
       "'!SPDStandResults//BRONISLAV//21_07_20__21_03'"
      ]
     },
     "execution_count": 3,
     "metadata": {},
     "output_type": "execute_result"
    }
   ],
   "source": [
    "spd_bronislav.dir_name"
   ]
  },
  {
   "cell_type": "code",
   "execution_count": 4,
   "metadata": {},
   "outputs": [
    {
     "data": {
      "text/plain": [
       "'!SPDStandResults//Alyonushka//21_12_02__13_47'"
      ]
     },
     "execution_count": 4,
     "metadata": {},
     "output_type": "execute_result"
    }
   ],
   "source": [
    "spd_alyonuushka.dir_name"
   ]
  },
  {
   "cell_type": "code",
   "execution_count": 5,
   "metadata": {},
   "outputs": [
    {
     "data": {
      "text/plain": [
       "{1.73: <spd_analyze.SPDGated at 0x255340096d0>,\n",
       " 2.5: <spd_analyze.SPDGated at 0x25534009820>,\n",
       " 5.0: <spd_analyze.SPDGated at 0x255340095b0>,\n",
       " 7.5: <spd_analyze.SPDGated at 0x255340099d0>}"
      ]
     },
     "execution_count": 5,
     "metadata": {},
     "output_type": "execute_result"
    }
   ],
   "source": [
    "spd_alyonuushka.spd_dict"
   ]
  },
  {
   "cell_type": "code",
   "execution_count": 6,
   "metadata": {},
   "outputs": [
    {
     "name": "stdout",
     "output_type": "stream",
     "text": [
      "there is no such spd dead time in butterfly spd\n"
     ]
    }
   ],
   "source": [
    "spd_alyonuushka.get_specific_spd()"
   ]
  },
  {
   "cell_type": "code",
   "execution_count": 7,
   "metadata": {},
   "outputs": [
    {
     "name": "stdout",
     "output_type": "stream",
     "text": [
      "there is no such spd dead time in butterfly spd\n"
     ]
    }
   ],
   "source": [
    "spd_alyonuushka.get_specific_spd(2)"
   ]
  },
  {
   "cell_type": "code",
   "execution_count": 8,
   "metadata": {},
   "outputs": [
    {
     "data": {
      "text/plain": [
       "<spd_analyze.SPDGated at 0x25534009820>"
      ]
     },
     "execution_count": 8,
     "metadata": {},
     "output_type": "execute_result"
    }
   ],
   "source": [
    "spd_alyonuushka.get_specific_spd(2.5)"
   ]
  },
  {
   "cell_type": "code",
   "execution_count": 9,
   "metadata": {},
   "outputs": [
    {
     "data": {
      "text/plain": [
       "'butterfly'"
      ]
     },
     "execution_count": 9,
     "metadata": {},
     "output_type": "execute_result"
    }
   ],
   "source": [
    "spd_alyonuushka.type"
   ]
  },
  {
   "cell_type": "code",
   "execution_count": 10,
   "metadata": {},
   "outputs": [
    {
     "data": {
      "text/plain": [
       "'gated'"
      ]
     },
     "execution_count": 10,
     "metadata": {},
     "output_type": "execute_result"
    }
   ],
   "source": [
    "spd_alyonuushka.get_specific_spd(2.5).type"
   ]
  },
  {
   "cell_type": "code",
   "execution_count": 11,
   "metadata": {},
   "outputs": [],
   "source": [
    "import os"
   ]
  },
  {
   "cell_type": "code",
   "execution_count": 12,
   "metadata": {},
   "outputs": [
    {
     "data": {
      "text/plain": [
       "'C:\\\\Users\\\\79260\\\\OneDrive - ООО КуРэйт\\\\Stand\\\\Git_Stand'"
      ]
     },
     "execution_count": 12,
     "metadata": {},
     "output_type": "execute_result"
    }
   ],
   "source": [
    "root_path = os.getcwd()\n",
    "root_path"
   ]
  },
  {
   "cell_type": "code",
   "execution_count": 13,
   "metadata": {},
   "outputs": [
    {
     "data": {
      "text/plain": [
       "'C:\\\\Users\\\\79260\\\\OneDrive - ООО КуРэйт\\\\Stand\\\\Git_Stand\\\\!SPDStandResults//AGAFIA//21_06_08__18_54'"
      ]
     },
     "execution_count": 13,
     "metadata": {},
     "output_type": "execute_result"
    }
   ],
   "source": [
    "os.path.join(root_path, dir_name_agafia)"
   ]
  },
  {
   "cell_type": "code",
   "execution_count": 14,
   "metadata": {},
   "outputs": [],
   "source": [
    "a = ['0x64', '0xb9', '0x18b', '0x24e']"
   ]
  },
  {
   "cell_type": "code",
   "execution_count": 17,
   "metadata": {},
   "outputs": [
    {
     "data": {
      "text/plain": [
       "'0XB9'"
      ]
     },
     "execution_count": 17,
     "metadata": {},
     "output_type": "execute_result"
    }
   ],
   "source": [
    "a[1].upper()"
   ]
  },
  {
   "cell_type": "code",
   "execution_count": 23,
   "metadata": {},
   "outputs": [
    {
     "data": {
      "text/plain": [
       "100"
      ]
     },
     "execution_count": 23,
     "metadata": {},
     "output_type": "execute_result"
    }
   ],
   "source": [
    "b = 'dt_0x064'\n",
    "c = b.replace(\"dt_0x\", \"\")\n",
    "int(\"064\", 16)"
   ]
  },
  {
   "cell_type": "code",
   "execution_count": 24,
   "metadata": {},
   "outputs": [
    {
     "data": {
      "text/plain": [
       "16"
      ]
     },
     "execution_count": 24,
     "metadata": {},
     "output_type": "execute_result"
    }
   ],
   "source": [
    "round(15.6)"
   ]
  },
  {
   "cell_type": "code",
   "execution_count": null,
   "metadata": {},
   "outputs": [],
   "source": []
  }
 ],
 "metadata": {
  "kernelspec": {
   "display_name": "Python 3",
   "language": "python",
   "name": "python3"
  },
  "language_info": {
   "codemirror_mode": {
    "name": "ipython",
    "version": 3
   },
   "file_extension": ".py",
   "mimetype": "text/x-python",
   "name": "python",
   "nbconvert_exporter": "python",
   "pygments_lexer": "ipython3",
   "version": "3.8.5"
  }
 },
 "nbformat": 4,
 "nbformat_minor": 4
}
